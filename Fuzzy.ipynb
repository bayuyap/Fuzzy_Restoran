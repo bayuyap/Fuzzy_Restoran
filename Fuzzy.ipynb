{
  "nbformat": 4,
  "nbformat_minor": 0,
  "metadata": {
    "colab": {
      "name": "Fuzzy.ipynb",
      "provenance": [],
      "collapsed_sections": [],
      "include_colab_link": true
    },
    "kernelspec": {
      "name": "python3",
      "display_name": "Python 3"
    }
  },
  "cells": [
    {
      "cell_type": "markdown",
      "metadata": {
        "id": "view-in-github",
        "colab_type": "text"
      },
      "source": [
        "<a href=\"https://colab.research.google.com/github/bayuyap/Fuzzy_Restoran/blob/main/Fuzzy.ipynb\" target=\"_parent\"><img src=\"https://colab.research.google.com/assets/colab-badge.svg\" alt=\"Open In Colab\"/></a>"
      ]
    },
    {
      "cell_type": "markdown",
      "metadata": {
        "id": "SwCwB_JmRSz0"
      },
      "source": [
        "# Membaca file excel dan membuat output dari file "
      ]
    },
    {
      "cell_type": "code",
      "metadata": {
        "id": "TLBqptFZ4Hj-",
        "colab": {
          "base_uri": "https://localhost:8080/",
          "height": 423
        },
        "outputId": "99d779b3-4bca-4ad1-c34a-fd74640f61fe"
      },
      "source": [
        "import pandas as pd\n",
        "\n",
        "def ReadExcelFile(name):\n",
        "  df = pd.read_excel(name)\n",
        "  return df\n",
        "\n",
        "x = ReadExcelFile(\"restoran.xlsx\")\n",
        "x"
      ],
      "execution_count": null,
      "outputs": [
        {
          "output_type": "execute_result",
          "data": {
            "text/html": [
              "<div>\n",
              "<style scoped>\n",
              "    .dataframe tbody tr th:only-of-type {\n",
              "        vertical-align: middle;\n",
              "    }\n",
              "\n",
              "    .dataframe tbody tr th {\n",
              "        vertical-align: top;\n",
              "    }\n",
              "\n",
              "    .dataframe thead th {\n",
              "        text-align: right;\n",
              "    }\n",
              "</style>\n",
              "<table border=\"1\" class=\"dataframe\">\n",
              "  <thead>\n",
              "    <tr style=\"text-align: right;\">\n",
              "      <th></th>\n",
              "      <th>id</th>\n",
              "      <th>pelayanan</th>\n",
              "      <th>makanan</th>\n",
              "    </tr>\n",
              "  </thead>\n",
              "  <tbody>\n",
              "    <tr>\n",
              "      <th>0</th>\n",
              "      <td>1</td>\n",
              "      <td>58</td>\n",
              "      <td>7</td>\n",
              "    </tr>\n",
              "    <tr>\n",
              "      <th>1</th>\n",
              "      <td>2</td>\n",
              "      <td>54</td>\n",
              "      <td>1</td>\n",
              "    </tr>\n",
              "    <tr>\n",
              "      <th>2</th>\n",
              "      <td>3</td>\n",
              "      <td>98</td>\n",
              "      <td>2</td>\n",
              "    </tr>\n",
              "    <tr>\n",
              "      <th>3</th>\n",
              "      <td>4</td>\n",
              "      <td>52</td>\n",
              "      <td>4</td>\n",
              "    </tr>\n",
              "    <tr>\n",
              "      <th>4</th>\n",
              "      <td>5</td>\n",
              "      <td>11</td>\n",
              "      <td>4</td>\n",
              "    </tr>\n",
              "    <tr>\n",
              "      <th>...</th>\n",
              "      <td>...</td>\n",
              "      <td>...</td>\n",
              "      <td>...</td>\n",
              "    </tr>\n",
              "    <tr>\n",
              "      <th>95</th>\n",
              "      <td>96</td>\n",
              "      <td>30</td>\n",
              "      <td>1</td>\n",
              "    </tr>\n",
              "    <tr>\n",
              "      <th>96</th>\n",
              "      <td>97</td>\n",
              "      <td>25</td>\n",
              "      <td>3</td>\n",
              "    </tr>\n",
              "    <tr>\n",
              "      <th>97</th>\n",
              "      <td>98</td>\n",
              "      <td>27</td>\n",
              "      <td>10</td>\n",
              "    </tr>\n",
              "    <tr>\n",
              "      <th>98</th>\n",
              "      <td>99</td>\n",
              "      <td>8</td>\n",
              "      <td>6</td>\n",
              "    </tr>\n",
              "    <tr>\n",
              "      <th>99</th>\n",
              "      <td>100</td>\n",
              "      <td>11</td>\n",
              "      <td>8</td>\n",
              "    </tr>\n",
              "  </tbody>\n",
              "</table>\n",
              "<p>100 rows × 3 columns</p>\n",
              "</div>"
            ],
            "text/plain": [
              "     id  pelayanan  makanan\n",
              "0     1         58        7\n",
              "1     2         54        1\n",
              "2     3         98        2\n",
              "3     4         52        4\n",
              "4     5         11        4\n",
              "..  ...        ...      ...\n",
              "95   96         30        1\n",
              "96   97         25        3\n",
              "97   98         27       10\n",
              "98   99          8        6\n",
              "99  100         11        8\n",
              "\n",
              "[100 rows x 3 columns]"
            ]
          },
          "metadata": {},
          "execution_count": 2
        }
      ]
    },
    {
      "cell_type": "markdown",
      "metadata": {
        "id": "yiihCwgWSpeq"
      },
      "source": [
        "# Membership Function"
      ]
    },
    {
      "cell_type": "code",
      "metadata": {
        "id": "on2K4897cVZO"
      },
      "source": [
        "def UpTrapesium(x, a, b):\n",
        "  if x <= a:\n",
        "    return 0\n",
        "  elif a < x and x <= b:\n",
        "    return (x-a)/(b-a)\n",
        "  else:\n",
        "    return 1\n",
        "\n",
        "def DownTrapesium(x, c, d):\n",
        "  if x <= c:\n",
        "    return 1\n",
        "  elif c < x and x <= d:\n",
        "    return (d-x)/(d-c)\n",
        "  else:\n",
        "    return 0\n",
        "\n",
        "def TrapesiumGrafik(x, a, b, c, d):\n",
        "  if x <= a or x >= d:\n",
        "    return 0\n",
        "  elif a < x and x < b:\n",
        "    return (x-a)/(b-a)\n",
        "  elif b <= x and x <= c:\n",
        "    return 1\n",
        "  else:\n",
        "    return -(x-d)/(d-c)"
      ],
      "execution_count": null,
      "outputs": []
    },
    {
      "cell_type": "code",
      "metadata": {
        "id": "s9-FERCPPmKN"
      },
      "source": [
        "def pelayananSet(pelayanan, a, b, c, d):\n",
        "  crips = {'bad': 0 , 'average': 0, 'best':0}\n",
        "  assert a < b, \"nilai a > b\"\n",
        "  assert b < c, \"nilai b > c\"\n",
        "  assert c < d, \"nilai c > d\"\n",
        "  crips['bad'] = DownTrapesium(pelayanan,a, b)\n",
        "  crips['average'] = TrapesiumGrafik(pelayanan, a, b, c, d)\n",
        "  crips['best'] = UpTrapesium(pelayanan, c, d)\n",
        "  return crips"
      ],
      "execution_count": null,
      "outputs": []
    },
    {
      "cell_type": "code",
      "metadata": {
        "id": "aTjx1Huxjhcf"
      },
      "source": [
        "def makananSet(makanan, a, b, c, d):\n",
        "  crips = {'bad': 0 , 'average': 0, 'best':0}\n",
        "  assert a < b, \"nilai a > b\"\n",
        "  assert b < c, \"nilai b > c\"\n",
        "  assert c < d, \"nilai c > d\"\n",
        "  crips['bad'] = DownTrapesium(makanan,a, b)\n",
        "  crips['average'] = TrapesiumGrafik(makanan, a, b, c, d)\n",
        "  crips['best'] = UpTrapesium(makanan, c, d)\n",
        "  return crips"
      ],
      "execution_count": null,
      "outputs": []
    },
    {
      "cell_type": "markdown",
      "metadata": {
        "id": "GTe0BdPwSvqi"
      },
      "source": [
        "# Aturan Inferensi, Fuzzifikasi dan Defuzzifikasi"
      ]
    },
    {
      "cell_type": "markdown",
      "metadata": {
        "id": "tHNAMohfuEol"
      },
      "source": [
        "Pembuatan Aturan Inferensi"
      ]
    },
    {
      "cell_type": "code",
      "metadata": {
        "id": "c6oR_YluaUur"
      },
      "source": [
        "from math import ceil\n",
        "\n",
        "def checking(a, b):\n",
        "  return ceil(a) and ceil(b)\n",
        "\n",
        "def PropernessCrips(pelayanan, makanan):\n",
        "  crips = {'buruk': 0, 'baik': 0}\n",
        "  if checking(pelayanan['bad'], makanan['bad']):\n",
        "    crips['buruk'] = max(crips['buruk'], min(pelayanan['bad'], makanan['bad']))\n",
        "  if checking(pelayanan['bad'], makanan['average']):\n",
        "    crips['buruk'] = max(crips['buruk'], min(pelayanan['bad'], makanan['average']))\n",
        "  if checking(pelayanan['bad'], makanan['best']):\n",
        "    crips['buruk'] = max(crips['buruk'], min(pelayanan['bad'], makanan['best']))\n",
        "  if checking(pelayanan['average'], makanan['bad']):\n",
        "    crips['buruk'] = max(crips['buruk'], min(pelayanan['average'], makanan['bad']))\n",
        "  if checking(pelayanan['average'], makanan['average']):\n",
        "    crips['baik'] = max(crips['baik'], min(pelayanan['average'], makanan['average']))\n",
        "  if checking(pelayanan['average'], makanan['best']):\n",
        "    crips['baik'] = max(crips['baik'], min(pelayanan['average'], makanan['best']))\n",
        "  if checking(pelayanan['best'], makanan['bad']):\n",
        "    crips['buruk'] = max(crips['buruk'], min(pelayanan['best'], makanan['bad']))\n",
        "  if checking(pelayanan['best'], makanan['average']):\n",
        "    crips['baik'] = max(crips['baik'], min(pelayanan['best'], makanan['average']))\n",
        "  if checking(pelayanan['best'], makanan['best']):\n",
        "    crips['baik'] = max(crips['baik'], min(pelayanan['best'], makanan['best']))\n",
        "  return crips"
      ],
      "execution_count": null,
      "outputs": []
    },
    {
      "cell_type": "code",
      "metadata": {
        "id": "8Ruh-s0i4S6K"
      },
      "source": [
        "def Fuzzifikasi(pelayanan, makanan, paramPelayanan, paramFood):\n",
        "  allCrips = {'pel':[], 'food':[]}\n",
        "  \n",
        "  for i in range(len(pelayanan)):\n",
        "    allCrips['pel'].append(pelayananSet(pelayanan[i], paramPelayanan['a'],\n",
        "                                     paramPelayanan['b'], paramPelayanan['c'], \n",
        "                                     paramPelayanan['d']))\n",
        "    allCrips['food'].append(makananSet(makanan[i], paramFood['a'],\n",
        "                                     paramFood['b'], paramFood['c'], \n",
        "                                     paramFood['d']))\n",
        "\n",
        "  return allCrips"
      ],
      "execution_count": null,
      "outputs": []
    },
    {
      "cell_type": "code",
      "metadata": {
        "id": "s9gEbZyKiQ4_"
      },
      "source": [
        "def Inferensi(allCrips):\n",
        "  propernessCrips = []\n",
        "\n",
        "  for i in range(len(allCrips['pel'])):\n",
        "    propernessCrips.append(PropernessCrips(allCrips['pel'][i],\n",
        "                                           allCrips['food'][i]))\n",
        "  \n",
        "  return propernessCrips"
      ],
      "execution_count": null,
      "outputs": []
    },
    {
      "cell_type": "code",
      "metadata": {
        "id": "FgCWglVxmUFl"
      },
      "source": [
        "def Centroid(crips, a, b):\n",
        "  score = 0\n",
        "  down = 0\n",
        "  for i in range(101):\n",
        "    buruk = min(crips['buruk'], DownTrapesium(i,a, b))\n",
        "    baik = min(crips['baik'], UpTrapesium(i,a, b))\n",
        "    score +=  i * max(buruk, baik)\n",
        "    down +=  max(buruk, baik)\n",
        "  return score / down"
      ],
      "execution_count": null,
      "outputs": []
    },
    {
      "cell_type": "code",
      "metadata": {
        "id": "Tb_qbptwmyxz"
      },
      "source": [
        "def Defuzzifikasi(allCrips, id):\n",
        "  ans = []\n",
        "  \n",
        "  for i in range(len(allCrips)):\n",
        "    crips = allCrips[i]\n",
        "    sc = Centroid(crips, 40, 80)\n",
        "    ans.append({'id':id[i], 'score':sc})\n",
        "\n",
        "  ans = sorted(ans, key= lambda x : x['score'], reverse=True)\n",
        "  return ans"
      ],
      "execution_count": null,
      "outputs": []
    },
    {
      "cell_type": "markdown",
      "metadata": {
        "id": "l2IBPfhivWb6"
      },
      "source": [
        "# Main Program"
      ]
    },
    {
      "cell_type": "code",
      "metadata": {
        "id": "Z-Rn88Ti6jEH",
        "colab": {
          "base_uri": "https://localhost:8080/"
        },
        "outputId": "f65e010c-d16c-4b1b-9c35-63c6f89a8628"
      },
      "source": [
        "# preprocessing Data\n",
        "df = ReadExcelFile(\"restoran.xlsx\")\n",
        "pelayanan = df['pelayanan'].values\n",
        "makanan = df['makanan'].values\n",
        "id = df['id'].values\n",
        "\n",
        "# Setup parameter grafik pelayanan dan makanan\n",
        "paramservice = {'a':40, 'b':50, 'c':70, 'd':80}\n",
        "paramfood = {'a':4, 'b':5, 'c':7, 'd':8}\n",
        "\n",
        "# Fuzzifikasi \n",
        "allCrips = Fuzzifikasi(pelayanan, makanan, paramservice, paramfood)\n",
        "\n",
        "# Interferensi\n",
        "allCripsInferensi = Inferensi(allCrips)\n",
        "\n",
        "# Defuzzifikasi\n",
        "ans = Defuzzifikasi(allCripsInferensi, id)\n",
        "for a in ans[:10]:\n",
        "  print(a)\n",
        "\n",
        "# Write to excel\n",
        "df1 = pd.DataFrame( [i['id'] for i in ans[:10]],\n",
        "                   columns=['Id'])\n",
        "df1.to_excel(\"peringkat.xls\", index = False, header=False)"
      ],
      "execution_count": null,
      "outputs": [
        {
          "output_type": "stream",
          "text": [
            "{'id': 1, 'score': 78.60493827160494}\n",
            "{'id': 6, 'score': 78.60493827160494}\n",
            "{'id': 7, 'score': 78.60493827160494}\n",
            "{'id': 16, 'score': 78.60493827160494}\n",
            "{'id': 24, 'score': 78.60493827160494}\n",
            "{'id': 25, 'score': 78.60493827160494}\n",
            "{'id': 27, 'score': 78.60493827160494}\n",
            "{'id': 39, 'score': 78.60493827160494}\n",
            "{'id': 42, 'score': 78.60493827160494}\n",
            "{'id': 54, 'score': 78.60493827160494}\n"
          ],
          "name": "stdout"
        }
      ]
    }
  ]
}